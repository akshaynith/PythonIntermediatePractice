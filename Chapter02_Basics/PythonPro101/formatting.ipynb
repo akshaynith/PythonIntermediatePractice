{
 "cells": [
  {
   "cell_type": "markdown",
   "metadata": {},
   "source": [
    "### String Formatting\n"
   ]
  },
  {
   "cell_type": "code",
   "execution_count": 6,
   "metadata": {},
   "outputs": [],
   "source": [
    "name = \"Akshay\"\n",
    "age = 30"
   ]
  },
  {
   "cell_type": "code",
   "execution_count": 7,
   "metadata": {},
   "outputs": [],
   "source": [
    "result_string = \"Hello my name is Akshay, i am 30 years old.\""
   ]
  },
  {
   "cell_type": "markdown",
   "metadata": {},
   "source": [
    "#### String Concatenation\n"
   ]
  },
  {
   "cell_type": "code",
   "execution_count": 10,
   "metadata": {},
   "outputs": [],
   "source": [
    "def format_string(name: str, age: int) -> str:\n",
    "    return (\n",
    "        \"Hello my name is \" + str(name) + \", i am \" + str(age) + \" years old.\"\n",
    "    )\n",
    "# 5 string objects are getting created here and then after concatenation we are getting 9 string objects as they get concatenated sequentially."
   ]
  },
  {
   "cell_type": "code",
   "execution_count": 9,
   "metadata": {},
   "outputs": [
    {
     "name": "stdout",
     "output_type": "stream",
     "text": [
      "Hello my name is Akshay, i am 30 years old.\n"
     ]
    }
   ],
   "source": [
    "print(format_string(name, age))"
   ]
  },
  {
   "cell_type": "markdown",
   "metadata": {},
   "source": [
    "#### Old String Formatter\n"
   ]
  },
  {
   "cell_type": "markdown",
   "metadata": {},
   "source": [
    "%s = String\n",
    "%d = Integer\n",
    "%e, %f = Float\n",
    "%r = Lists etc.\n",
    "%x = Hexa\n",
    "%o = Octa\n"
   ]
  },
  {
   "cell_type": "code",
   "execution_count": 24,
   "metadata": {},
   "outputs": [],
   "source": [
    "def old_format_string(name: str, age: int) -> str:\n",
    "    return \"Hello my name is %s, i am %d years old.\" % (name, age)\n",
    "# 2 string objects are getting created here and then after formatting we are getting 1 string object as it gets formatted in one go.\n",
    "# \"Hello my name is %s, i am %d years old.\"\n",
    "# This is a string constant, likely interned by Python. So it's created once and possibly reused.\n",
    "# Doesn't count as a \"new\" string per function call.\n",
    "# \"Hello my name is Akshay, i am 30 years old.\"\n",
    "# This is a new string object, built by filling in the placeholders %s and %d.\n",
    "# Created at runtime.\n",
    "# Temporary string conversions:\n",
    "# Python must convert name to a string (str(name)) and format age as decimal.\n",
    "# If name is already a string, no new object is created.\n",
    "# For age, a string representation like \"30\" is created temporarily."
   ]
  },
  {
   "cell_type": "code",
   "execution_count": 12,
   "metadata": {},
   "outputs": [
    {
     "name": "stdout",
     "output_type": "stream",
     "text": [
      "Hello my name is Akshay, i am 30 years old.\n"
     ]
    }
   ],
   "source": [
    "print(old_format_string(name, age))"
   ]
  },
  {
   "cell_type": "markdown",
   "metadata": {},
   "source": [
    "#### String Format Method\n"
   ]
  },
  {
   "cell_type": "code",
   "execution_count": 17,
   "metadata": {},
   "outputs": [],
   "source": [
    "def better_format_string(name: str, age: int) -> str:\n",
    "    return \"Hello my name is {}, i am {} years old.\".format(name, age)"
   ]
  },
  {
   "cell_type": "code",
   "execution_count": 18,
   "metadata": {},
   "outputs": [
    {
     "name": "stdout",
     "output_type": "stream",
     "text": [
      "Hello my name is Akshay, i am 30 years old.\n"
     ]
    }
   ],
   "source": [
    "print(better_format_string(name, age))"
   ]
  },
  {
   "cell_type": "markdown",
   "metadata": {},
   "source": [
    "#### f-String\n"
   ]
  },
  {
   "cell_type": "code",
   "execution_count": 21,
   "metadata": {},
   "outputs": [],
   "source": [
    "def f_format_string(name: str, age: int) -> str:\n",
    "    return f\"Hello my name is {name}, i am {age} years old.\"\n",
    "\n",
    "# Why Are F-Strings the Fastest?\n",
    "# f-strings (introduced in Python 3.6) are fastest because:\n",
    "# Compiled at runtime into a single efficient expression:\n",
    "# Python parses and optimizes f-strings into bytecode that directly builds the result.\n",
    "# No need to call formatting methods or parse format strings dynamically.\n",
    "# No intermediate string templates or lookups like with:\n",
    "# \"Hello %s\" % name → uses % operator (slower and older).\n",
    "# \"Hello {}\".format(name) → creates a temporary formatting context.\n",
    "# f-strings inline the values directly, which is more CPU- and memory-efficient."
   ]
  },
  {
   "cell_type": "code",
   "execution_count": 22,
   "metadata": {},
   "outputs": [
    {
     "name": "stdout",
     "output_type": "stream",
     "text": [
      "Hello my name is Akshay, i am 30 years old.\n"
     ]
    }
   ],
   "source": [
    "print(f_format_string(name, age))"
   ]
  },
  {
   "cell_type": "code",
   "execution_count": 23,
   "metadata": {},
   "outputs": [
    {
     "name": "stdout",
     "output_type": "stream",
     "text": [
      "0.22509100002935156\n",
      "0.3298981999978423\n",
      "0.4167483999626711\n"
     ]
    }
   ],
   "source": [
    "import timeit\n",
    "\n",
    "name = \"Akshay\"\n",
    "age = 30\n",
    "\n",
    "print(timeit.timeit(lambda: f\"Hello my name is {name}, i am {age} years old.\", number=1000000))\n",
    "print(timeit.timeit(lambda: \"Hello my name is %s, i am %d years old.\" % (name, age), number=1000000))\n",
    "print(timeit.timeit(lambda: \"Hello my name is {}, i am {} years old.\".format(name, age), number=1000000))"
   ]
  }
 ],
 "metadata": {
  "file_extension": ".py",
  "kernelspec": {
   "display_name": "nlpfull",
   "language": "python",
   "name": "python3"
  },
  "language_info": {
   "codemirror_mode": {
    "name": "ipython",
    "version": 3
   },
   "file_extension": ".py",
   "mimetype": "text/x-python",
   "name": "python",
   "nbconvert_exporter": "python",
   "pygments_lexer": "ipython3",
   "version": "3.10.14"
  },
  "mimetype": "text/x-python",
  "name": "python",
  "npconvert_exporter": "python",
  "orig_nbformat": 2,
  "pygments_lexer": "ipython3",
  "version": 3
 },
 "nbformat": 4,
 "nbformat_minor": 2
}
