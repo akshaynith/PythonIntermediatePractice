{
 "cells": [
  {
   "cell_type": "code",
   "execution_count": 2,
   "metadata": {},
   "outputs": [],
   "source": [
    "import math\n",
    "import sys"
   ]
  },
  {
   "cell_type": "markdown",
   "metadata": {},
   "source": [
    "# Integers\n"
   ]
  },
  {
   "cell_type": "markdown",
   "metadata": {},
   "source": [
    "C/C++/Java: int 32bit/4Byte\n",
    "\n",
    "Python: int object uses a variable number of bits\n"
   ]
  },
  {
   "cell_type": "markdown",
   "metadata": {},
   "source": [
    "Python int is a high-level object.\n",
    "\n",
    "Automatically handles arbitrarily large numbers:\n",
    "\n",
    "Python\n",
    "\n",
    "x = 99999999999999999999999999999999999999  # works fine\n",
    "\n",
    "C++\n",
    "\n",
    "Has fixed-size primitive types: int, short, long, long long\n",
    "Integer size is platform-dependent and usually limited:\n",
    "\n",
    "int x = 2147483647;  // 32-bit signed max\n",
    "\n",
    "int y = x + 1;       // Integer overflow (undefined behavior)\n",
    "\n",
    "📏 2. Memory Management\n",
    "\n",
    "Python\n",
    "\n",
    "Python int is an object, with metadata and dynamic memory allocation.\n",
    "Uses more memory per integer (e.g., ~28 bytes for small ints).\n",
    "\n",
    "C++\n",
    "\n",
    "int is typically 4 bytes (32-bit), directly stored in memory.\n",
    "Much more memory-efficient, especially in tight loops or arrays.\n",
    "\n",
    "🧠 3. Integer Overflow Behavior\n",
    "\n",
    "Python\n",
    "\n",
    "No overflow. Integers grow in size as needed (internally changes from int to long seamlessly in Python 3).\n",
    "\n",
    "C++\n",
    "\n",
    "Overflow is dangerous:\n",
    "Signed int: undefined behavior\n",
    "Unsigned int: wrap-around behavior"
   ]
  },
  {
   "cell_type": "code",
   "execution_count": 13,
   "metadata": {},
   "outputs": [
    {
     "name": "stdout",
     "output_type": "stream",
     "text": [
      "Integer size: 28\n"
     ]
    }
   ],
   "source": [
    "my_value = 42\n",
    "print(f\"Integer size: {sys.getsizeof(my_value)}\")\n",
    "\n",
    "# Python does not just store 42 as 4 raw bytes like in C or C++.\n",
    "# Instead, it creates a full Python object with:\n",
    "# Type metadata (what type it is)\n",
    "# Reference count (how many places refer to this object)\n",
    "# Internal object header\n",
    "# Actual integer value"
   ]
  },
  {
   "cell_type": "markdown",
   "metadata": {},
   "source": [
    "⚖️ Why So Much Memory?\n",
    "Compared to C++ where int is 4 bytes:\n",
    "\n",
    "Python gives you dynamic typing, arbitrary size support, object features — at the cost of more memory.\n",
    "\n",
    "Even more: if the int exceeds 64 bits, Python will grow it internally to support huge numbers like 10**100."
   ]
  },
  {
   "cell_type": "code",
   "execution_count": 14,
   "metadata": {},
   "outputs": [
    {
     "name": "stdout",
     "output_type": "stream",
     "text": [
      "Integer size: 32\n"
     ]
    }
   ],
   "source": [
    "my_value = 999999999999999\n",
    "print(f\"Integer size: {sys.getsizeof(my_value)}\")"
   ]
  },
  {
   "cell_type": "code",
   "execution_count": 15,
   "metadata": {},
   "outputs": [
    {
     "name": "stdout",
     "output_type": "stream",
     "text": [
      "Integer size: 24\n"
     ]
    }
   ],
   "source": [
    "my_value = 0\n",
    "print(f\"Integer size: {sys.getsizeof(my_value)}\")"
   ]
  },
  {
   "cell_type": "code",
   "execution_count": 16,
   "metadata": {},
   "outputs": [
    {
     "name": "stdout",
     "output_type": "stream",
     "text": [
      "Integer size: 36\n"
     ]
    }
   ],
   "source": [
    "my_value2 = 2**64\n",
    "print(f\"Integer size: {sys.getsizeof(my_value2)}\")"
   ]
  },
  {
   "cell_type": "markdown",
   "metadata": {},
   "source": [
    "🧠 How many \"digits\" for a Python int?\n",
    "Python uses 30 bits per digit (on 64-bit systems).\n",
    "\n",
    "To represent 2**64, you need:\n",
    "\n",
    "⌈64/30⌉=3 digits\n",
    "\n",
    "But Python is clever — it can optimize storage and often stores this in just 2 digits, depending on internal optimization.\n",
    "\n",
    "So to store actual number it takes 16 bytes. (8 bytes for each digit)"
   ]
  },
  {
   "cell_type": "markdown",
   "metadata": {},
   "source": [
    "✅ The Problem with Native Python int, float, etc.\n",
    "Python's built-in types (like int, float) are full-blown objects.\n",
    "\n",
    "Each element carries:\n",
    "\n",
    "Type metadata\n",
    "\n",
    "Reference count\n",
    "\n",
    "Pointer overhead\n",
    "\n",
    "This leads to high memory usage and slow performance for large numeric datasets.\n",
    "\n",
    "💡 Enter NumPy and Pandas: Efficient Under-the-Hood\n",
    "Both NumPy and Pandas solve this problem using compact, typed, fixed-size arrays built on C arrays.\n",
    "\n",
    "✅ NumPy: Fixed-Type Arrays (Like C Arrays)\n",
    "python\n",
    "Copy\n",
    "Edit\n",
    "import numpy as np\n",
    "\n",
    "arr = np.array([1, 2, 3, 4], dtype=np.int32)\n",
    "print(arr.nbytes)  # Total bytes used\n",
    "Each int32 takes exactly 4 bytes.\n",
    "\n",
    "Total memory: 4 ints * 4 bytes = 16 bytes (very compact!)\n",
    "\n",
    "Compare this with a Python list of 4 integers: ~112 bytes.\n",
    "\n",
    "📌 Under the hood: NumPy uses a single contiguous block of memory — no object wrappers per element."
   ]
  },
  {
   "cell_type": "code",
   "execution_count": 32,
   "metadata": {},
   "outputs": [
    {
     "name": "stdout",
     "output_type": "stream",
     "text": [
      "112\n",
      "16\n"
     ]
    }
   ],
   "source": [
    "import sys\n",
    "import numpy as np\n",
    "\n",
    "a = [1, 2, 3, 4]\n",
    "print(sum(sys.getsizeof(x) for x in a))  # ~112+ bytes\n",
    "\n",
    "b = np.array(a, dtype=np.int32)\n",
    "print(b.nbytes)  # 16 bytes\n"
   ]
  },
  {
   "cell_type": "markdown",
   "metadata": {},
   "source": [
    "## Arithmetic Operations\n",
    "\n",
    "(int / int) => float\n"
   ]
  },
  {
   "cell_type": "code",
   "execution_count": 33,
   "metadata": {},
   "outputs": [
    {
     "name": "stdout",
     "output_type": "stream",
     "text": [
      "Result: 15 Type: <class 'int'>\n"
     ]
    }
   ],
   "source": [
    "result = 10 + 5\n",
    "print(f\"Result: {result} Type: {type(result)}\")"
   ]
  },
  {
   "cell_type": "code",
   "execution_count": 34,
   "metadata": {},
   "outputs": [
    {
     "name": "stdout",
     "output_type": "stream",
     "text": [
      "Result: 5 Type: <class 'int'>\n"
     ]
    }
   ],
   "source": [
    "result = 10 - 5\n",
    "print(f\"Result: {result} Type: {type(result)}\")"
   ]
  },
  {
   "cell_type": "code",
   "execution_count": 35,
   "metadata": {},
   "outputs": [
    {
     "name": "stdout",
     "output_type": "stream",
     "text": [
      "Result: 50 Type: <class 'int'>\n"
     ]
    }
   ],
   "source": [
    "result = 10 * 5\n",
    "print(f\"Result: {result} Type: {type(result)}\")"
   ]
  },
  {
   "cell_type": "code",
   "execution_count": 38,
   "metadata": {},
   "outputs": [
    {
     "name": "stdout",
     "output_type": "stream",
     "text": [
      "Result:  3  Type:  <class 'int'>\n"
     ]
    }
   ],
   "source": [
    "result = 10 // 3\n",
    "print(\"Result: \", result, \" Type: \", type(result))\n",
    "\n",
    "# Use // — the floor division operator: if I Want Integer Division"
   ]
  },
  {
   "cell_type": "code",
   "execution_count": 39,
   "metadata": {},
   "outputs": [
    {
     "name": "stdout",
     "output_type": "stream",
     "text": [
      "Result: 2.0 Type: <class 'float'>\n"
     ]
    }
   ],
   "source": [
    "result = 10 / 5\n",
    "print(f\"Result: {result} Type: {type(result)}\")\n",
    "\n",
    "# In Python 3, the division operator / always returns a float, even when the result is a whole number."
   ]
  },
  {
   "cell_type": "markdown",
   "metadata": {},
   "source": [
    "## Float -> Int\n"
   ]
  },
  {
   "cell_type": "code",
   "execution_count": 40,
   "metadata": {},
   "outputs": [
    {
     "name": "stdout",
     "output_type": "stream",
     "text": [
      "-2.7\n",
      "-2\n"
     ]
    }
   ],
   "source": [
    "my_float = -2.7\n",
    "print(my_float)\n",
    "my_int = int(my_float) # This will truncate the decimal part, not round it.\n",
    "print(my_int)"
   ]
  },
  {
   "cell_type": "markdown",
   "metadata": {},
   "source": [
    "## (To-) Int Rounding\n",
    "\n",
    "-   floor (abrunden)\n",
    "-   ceil (aufrunden)\n"
   ]
  },
  {
   "cell_type": "code",
   "execution_count": 43,
   "metadata": {},
   "outputs": [
    {
     "name": "stdout",
     "output_type": "stream",
     "text": [
      "2.7\n",
      "2\n",
      "3\n"
     ]
    }
   ],
   "source": [
    "my_float2 = 2.7\n",
    "print(my_float2)\n",
    "my_int2 = math.floor(my_float2) # This will round down to the next lower whole number.\n",
    "print(my_int2)\n",
    "my_int3 = math.ceil(my_float2) # This will round up to the next higherwhole number.\n",
    "print(my_int3)"
   ]
  },
  {
   "cell_type": "code",
   "execution_count": 42,
   "metadata": {},
   "outputs": [
    {
     "name": "stdout",
     "output_type": "stream",
     "text": [
      "-2.7\n",
      "-3\n",
      "-2\n"
     ]
    }
   ],
   "source": [
    "my_float3 = -2.7\n",
    "print(my_float3)\n",
    "my_int4 = math.floor(my_float3) # This will round down to the next lower whole number.\n",
    "print(my_int4)\n",
    "my_int5 = math.ceil(my_float3) # This will round up to the next higherwhole number.\n",
    "print(my_int5)"
   ]
  },
  {
   "cell_type": "markdown",
   "metadata": {},
   "source": [
    "## Integer Bases\n",
    "\n",
    "-   decimal: base 10\n",
    "-   binary: base 2\n",
    "-   hex: base 16\n"
   ]
  },
  {
   "cell_type": "markdown",
   "metadata": {},
   "source": [
    "✅ int() is both a function and a constructor, depending on how you look at it.\n",
    "Let me explain both views clearly:\n",
    "\n",
    "🧩 1. As a Function\n",
    "\n",
    "From your perspective as a Python programmer:\n",
    "\n",
    "int(\"42\")         # → 42\n",
    "\n",
    "int(3.7)          # → 3\n",
    "\n",
    "int(\"1010\", 2)    # → 10\n",
    "\n",
    "int() behaves like a function:\n",
    "\n",
    "It takes arguments\n",
    "\n",
    "Does type conversion\n",
    "\n",
    "Returns a result\n",
    "\n",
    "So, it acts like a normal type conversion function — just like str(), float(), etc.\n",
    "\n",
    "🧱 2. Under the Hood: It’s a Constructor of a Class\n",
    "\n",
    "In reality, int is a class — a built-in immutable numeric type in Python:\n",
    "\n",
    "\n",
    "print(type(int))  # <class 'type'>\n",
    "\n",
    "When you call int(...), you're actually calling the constructor of the int class.\n",
    "\n",
    "This is equivalent to doing:\n",
    "\n",
    "\n",
    "int.__new__(int, \"42\")\n",
    "\n",
    "So Python is creating an instance of the int class — like a constructor in OOP terms."
   ]
  },
  {
   "cell_type": "code",
   "execution_count": 44,
   "metadata": {},
   "outputs": [
    {
     "name": "stdout",
     "output_type": "stream",
     "text": [
      "True\n",
      "int([x]) -> integer\n",
      "int(x, base=10) -> integer\n",
      "\n",
      "Convert a number or string to an integer, or return 0 if no arguments\n",
      "are given.  If x is a number, return x.__int__().  For floating point\n",
      "numbers, this truncates towards zero.\n",
      "\n",
      "If x is not a number or if base is given, then x must be a string,\n",
      "bytes, or bytearray instance representing an integer literal in the\n",
      "given base.  The literal can be preceded by '+' or '-' and be surrounded\n",
      "by whitespace.  The base defaults to 10.  Valid bases are 0 and 2-36.\n",
      "Base 0 means to interpret the base from the string as an integer literal.\n",
      ">>> int('0b100', base=0)\n",
      "4\n",
      "['__abs__', '__add__', '__and__', '__bool__', '__ceil__', '__class__', '__delattr__', '__dir__', '__divmod__', '__doc__', '__eq__', '__float__', '__floor__', '__floordiv__', '__format__', '__ge__', '__getattribute__', '__getnewargs__', '__gt__', '__hash__', '__index__', '__init__', '__init_subclass__', '__int__', '__invert__', '__le__', '__lshift__', '__lt__', '__mod__', '__mul__', '__ne__', '__neg__', '__new__', '__or__', '__pos__', '__pow__', '__radd__', '__rand__', '__rdivmod__', '__reduce__', '__reduce_ex__', '__repr__', '__rfloordiv__', '__rlshift__', '__rmod__', '__rmul__', '__ror__', '__round__', '__rpow__', '__rrshift__', '__rshift__', '__rsub__', '__rtruediv__', '__rxor__', '__setattr__', '__sizeof__', '__str__', '__sub__', '__subclasshook__', '__truediv__', '__trunc__', '__xor__', 'as_integer_ratio', 'bit_count', 'bit_length', 'conjugate', 'denominator', 'from_bytes', 'imag', 'numerator', 'real', 'to_bytes']\n"
     ]
    }
   ],
   "source": [
    "x = int(\"42\")\n",
    "print(isinstance(x, int))        # True\n",
    "print(int.__doc__)               # Shows int class documentation\n",
    "print(dir(int))                  # Methods on the int class"
   ]
  },
  {
   "cell_type": "code",
   "execution_count": 46,
   "metadata": {},
   "outputs": [
    {
     "name": "stdout",
     "output_type": "stream",
     "text": [
      "Value: 42\n"
     ]
    }
   ],
   "source": [
    "my_decimal = int(\"42\", base=10)\n",
    "print(f\"Value: {my_decimal}\")\n",
    "\n",
    "# | Part                 | Meaning                                                 |\n",
    "# | -------------------- | ------------------------------------------------------- |\n",
    "# | `\"42\"`               | A string — `\"42\"` (characters, not a number yet)        |\n",
    "# | `base=10`            | Interprets the string as a **base-10** (decimal) number |\n",
    "# | `int(\"42\", base=10)` | Converts `\"42\"` to the integer `42`                     |\n"
   ]
  },
  {
   "cell_type": "code",
   "execution_count": 51,
   "metadata": {},
   "outputs": [
    {
     "name": "stdout",
     "output_type": "stream",
     "text": [
      "Value: 66\n"
     ]
    }
   ],
   "source": [
    "my_hexadecimal = int(\"42\", base=16)\n",
    "print(f\"Value: {my_hexadecimal}\")\n",
    "\n",
    "# Hexadecimal \"42\":\n",
    "# 4 = 4 × 16¹ = 64\n",
    "# 2 = 2 × 16⁰ = 2"
   ]
  },
  {
   "cell_type": "code",
   "execution_count": 48,
   "metadata": {},
   "outputs": [
    {
     "name": "stdout",
     "output_type": "stream",
     "text": [
      "Value: 42\n"
     ]
    }
   ],
   "source": [
    "my_binary = int(\"101010\", base=2)\n",
    "print(f\"Value: {my_binary}\")"
   ]
  },
  {
   "cell_type": "code",
   "execution_count": 52,
   "metadata": {},
   "outputs": [
    {
     "name": "stdout",
     "output_type": "stream",
     "text": [
      "Value: 42\n"
     ]
    }
   ],
   "source": [
    "my_binary2 = int(\"0b101010\", base=0)\n",
    "print(f\"Value: {my_binary2}\")\n",
    "\n",
    "# Python automatically detects the base from the string’s prefix:\n",
    "\n",
    "# Prefix\tBase\n",
    "# \"0b\"\t2 (binary)\n",
    "# \"0o\"\t8 (octal)\n",
    "# \"0x\"\t16 (hex)\n",
    "# No prefix\t10 (decimal)\n",
    "\n",
    "# int(\"0b101010\", base=0)\n",
    "# is equivalent to:\n",
    "# int(\"101010\", base=2)"
   ]
  },
  {
   "cell_type": "code",
   "execution_count": 53,
   "metadata": {},
   "outputs": [
    {
     "name": "stdout",
     "output_type": "stream",
     "text": [
      "Value: 42\n"
     ]
    }
   ],
   "source": [
    "my_binary3 = 0b101010\n",
    "print(f\"Value: {my_binary3}\")"
   ]
  },
  {
   "cell_type": "code",
   "execution_count": 30,
   "metadata": {},
   "outputs": [
    {
     "name": "stdout",
     "output_type": "stream",
     "text": [
      "Value: 68\n"
     ]
    }
   ],
   "source": [
    "my_hex2 = 0x44\n",
    "print(f\"Value: {my_hex2}\")"
   ]
  }
 ],
 "metadata": {
  "kernelspec": {
   "display_name": "nlpfull",
   "language": "python",
   "name": "python3"
  },
  "language_info": {
   "codemirror_mode": {
    "name": "ipython",
    "version": 3
   },
   "file_extension": ".py",
   "mimetype": "text/x-python",
   "name": "python",
   "nbconvert_exporter": "python",
   "pygments_lexer": "ipython3",
   "version": "3.10.14"
  },
  "orig_nbformat": 4
 },
 "nbformat": 4,
 "nbformat_minor": 2
}
