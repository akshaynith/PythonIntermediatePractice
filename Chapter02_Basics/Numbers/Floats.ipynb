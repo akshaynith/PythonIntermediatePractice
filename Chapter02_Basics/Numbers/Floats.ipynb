{
 "cells": [
  {
   "cell_type": "markdown",
   "metadata": {},
   "source": [
    "## Imports\n"
   ]
  },
  {
   "cell_type": "code",
   "execution_count": 2,
   "metadata": {},
   "outputs": [],
   "source": [
    "import math\n",
    "import sys"
   ]
  },
  {
   "cell_type": "markdown",
   "metadata": {},
   "source": [
    "# Floats\n"
   ]
  },
  {
   "cell_type": "markdown",
   "metadata": {},
   "source": [
    "C, C++, Java etc.: Float (32bits/4Byte), Double (64bits=8Byte)\n",
    "\n",
    "Python: Float (64bits=8Byte)\n",
    "\n",
    "sign: 1bit  \n",
    "exponent: 11bits  \n",
    "significant bits: 52bits\n"
   ]
  },
  {
   "cell_type": "code",
   "execution_count": 51,
   "metadata": {},
   "outputs": [
    {
     "data": {
      "text/plain": [
       "24"
      ]
     },
     "execution_count": 51,
     "metadata": {},
     "output_type": "execute_result"
    }
   ],
   "source": [
    "my_value = 42.000000003\n",
    "\n",
    "sys.getsizeof(my_value)\n",
    "\n",
    "# Metric\t            Value\n",
    "# Size of float value\t8 bytes (64 bits)\n",
    "# Total object size\t    ~24 bytes in Python\n",
    "# Decimal precision\t    ~15–17 digits\n",
    "\n",
    "# ✔️ So:\n",
    "# 8 bytes = actual float value\n",
    "# 16 bytes = Python object overhead (reference count, type pointer)"
   ]
  },
  {
   "cell_type": "code",
   "execution_count": 47,
   "metadata": {},
   "outputs": [
    {
     "name": "stdout",
     "output_type": "stream",
     "text": [
      "3.1415927\n",
      "<class 'numpy.float32'>\n",
      "float32\n",
      "4\n"
     ]
    }
   ],
   "source": [
    "# Using numpy.float32 lets you work with compact 4-byte (32-bit) floating-point numbers, \n",
    "# which are half the size of Python’s default float (which is 64-bit).\n",
    "\n",
    "import numpy as np \n",
    "x = np.float32(3.1415926535)\n",
    "print(x)               # Output: 3.1415927\n",
    "print(type(x))         # <class 'numpy.float32'>\n",
    "print(x.dtype)         # float32\n",
    "print(x.itemsize)      # 4 (bytes)"
   ]
  },
  {
   "cell_type": "code",
   "execution_count": 48,
   "metadata": {},
   "outputs": [
    {
     "name": "stdout",
     "output_type": "stream",
     "text": [
      "[1.1 2.2 3.3]\n",
      "float32\n",
      "12\n"
     ]
    }
   ],
   "source": [
    "# Create a float32 Array\n",
    "\n",
    "arr = np.array([1.1, 2.2, 3.3], dtype=np.float32)\n",
    "print(arr)\n",
    "print(arr.dtype)       # float32\n",
    "print(arr.nbytes)      # 3 values * 4 bytes = 12 bytes"
   ]
  },
  {
   "cell_type": "code",
   "execution_count": 49,
   "metadata": {},
   "outputs": [],
   "source": [
    "# float32 stores only ~7 decimal digits\n",
    "# float64 (default) stores ~15-17 decimal digits\n",
    "# If precision matters (e.g., in scientific computing), stick with float64"
   ]
  },
  {
   "cell_type": "code",
   "execution_count": 11,
   "metadata": {},
   "outputs": [],
   "source": [
    "def float_print(value: float) -> None:\n",
    "    print(f\"{value:.32f}\")\n",
    "\n",
    "# This uses format specification:\n",
    "# :.32f means:\n",
    "# Show the number in fixed-point decimal (f)\n",
    "# With exactly 32 digits after the decimal point"
   ]
  },
  {
   "cell_type": "code",
   "execution_count": 12,
   "metadata": {},
   "outputs": [
    {
     "name": "stdout",
     "output_type": "stream",
     "text": [
      "0.33333333333333331482961625624739\n"
     ]
    }
   ],
   "source": [
    "float_print(1.0 / 3)"
   ]
  },
  {
   "cell_type": "code",
   "execution_count": 10,
   "metadata": {},
   "outputs": [
    {
     "name": "stdout",
     "output_type": "stream",
     "text": [
      "42.000000003\n"
     ]
    }
   ],
   "source": [
    "print(my_value)"
   ]
  },
  {
   "cell_type": "code",
   "execution_count": 13,
   "metadata": {},
   "outputs": [
    {
     "name": "stdout",
     "output_type": "stream",
     "text": [
      "42.00000000299999669550743419677019\n"
     ]
    }
   ],
   "source": [
    "float_print(my_value)\n",
    "\n",
    "# Python’s float is implemented using IEEE 754 double precision:\n",
    "# Can represent only about 15–17 decimal digits accurately\n",
    "# Uses binary fractions, which can’t exactly represent most decimal numbers\n",
    "# Python tries to store this number in binary, but 42.000000003 cannot be exactly represented in binary floating point.\n",
    "# So Python stores the closest possible binary approximation"
   ]
  },
  {
   "cell_type": "code",
   "execution_count": 7,
   "metadata": {},
   "outputs": [
    {
     "name": "stdout",
     "output_type": "stream",
     "text": [
      "42.10000000000000142108547152020037\n"
     ]
    }
   ],
   "source": [
    "my_value2 = 42.1\n",
    "float_print(my_value2)"
   ]
  },
  {
   "cell_type": "code",
   "execution_count": 14,
   "metadata": {},
   "outputs": [
    {
     "name": "stdout",
     "output_type": "stream",
     "text": [
      "42.000000002999996695507434196770191192626953125\n"
     ]
    }
   ],
   "source": [
    "import decimal\n",
    "\n",
    "value = 42.000000003\n",
    "print(decimal.Decimal(value))"
   ]
  },
  {
   "cell_type": "code",
   "execution_count": 15,
   "metadata": {},
   "outputs": [
    {
     "name": "stdout",
     "output_type": "stream",
     "text": [
      "42.10000000000000142108547152020037174224853515625\n"
     ]
    }
   ],
   "source": [
    "import decimal\n",
    "\n",
    "value = 42.1\n",
    "print(decimal.Decimal(value))"
   ]
  },
  {
   "cell_type": "markdown",
   "metadata": {},
   "source": [
    "# Float equality - Avoid == for floats\n"
   ]
  },
  {
   "cell_type": "code",
   "execution_count": 16,
   "metadata": {},
   "outputs": [
    {
     "name": "stdout",
     "output_type": "stream",
     "text": [
      "0.01000000000000000020816681711722\n"
     ]
    }
   ],
   "source": [
    "my_fraction = 1 / 100\n",
    "float_print(my_fraction)"
   ]
  },
  {
   "cell_type": "code",
   "execution_count": 17,
   "metadata": {},
   "outputs": [
    {
     "name": "stdout",
     "output_type": "stream",
     "text": [
      "0.30000000000000004440892098500626\n"
     ]
    }
   ],
   "source": [
    "my_fraction2 = 1 / 10 + 1 / 10 + 1 / 10\n",
    "float_print(my_fraction2)"
   ]
  },
  {
   "cell_type": "code",
   "execution_count": 18,
   "metadata": {},
   "outputs": [
    {
     "name": "stdout",
     "output_type": "stream",
     "text": [
      "0.29999999999999998889776975374843\n"
     ]
    }
   ],
   "source": [
    "my_fraction3 = 0.3\n",
    "float_print(my_fraction3)"
   ]
  },
  {
   "cell_type": "code",
   "execution_count": 19,
   "metadata": {},
   "outputs": [
    {
     "data": {
      "text/plain": [
       "False"
      ]
     },
     "execution_count": 19,
     "metadata": {},
     "output_type": "execute_result"
    }
   ],
   "source": [
    "bool(my_fraction2 == my_fraction3)"
   ]
  },
  {
   "cell_type": "code",
   "execution_count": 21,
   "metadata": {},
   "outputs": [
    {
     "data": {
      "text/plain": [
       "5.551115123125783e-17"
      ]
     },
     "execution_count": 21,
     "metadata": {},
     "output_type": "execute_result"
    }
   ],
   "source": [
    "float(0.30000000000000004440892098500626 - 0.29999999999999998889776975374843)"
   ]
  },
  {
   "cell_type": "code",
   "execution_count": 26,
   "metadata": {},
   "outputs": [],
   "source": [
    "def float_is_equal(x: float, y: float,) -> bool:\n",
    "    epsilon = 1e-15\n",
    "    difference = math.fabs(x - y)\n",
    "    return difference < epsilon\n",
    "\n",
    "# This function checks whether two floating-point numbers are \"close enough\" to be considered equal — instead of using x == y.\n",
    "# epsilon = 1e-15 .This is the tolerance threshold. If two numbers differ by less than this, consider them \"equal\".\n",
    "# difference = math.fabs(x - y) .Computes the absolute difference between the two values."
   ]
  },
  {
   "cell_type": "code",
   "execution_count": 27,
   "metadata": {},
   "outputs": [
    {
     "name": "stdout",
     "output_type": "stream",
     "text": [
      "0.00000000000000100000000000000008\n"
     ]
    }
   ],
   "source": [
    "epsilon = 1e-15\n",
    "print(f\"{epsilon:.32f}\")"
   ]
  },
  {
   "cell_type": "code",
   "execution_count": 28,
   "metadata": {},
   "outputs": [
    {
     "data": {
      "text/plain": [
       "True"
      ]
     },
     "execution_count": 28,
     "metadata": {},
     "output_type": "execute_result"
    }
   ],
   "source": [
    "float_is_equal(\n",
    "    my_fraction2,\n",
    "    my_fraction3,\n",
    ")"
   ]
  },
  {
   "cell_type": "code",
   "execution_count": 29,
   "metadata": {},
   "outputs": [
    {
     "data": {
      "text/plain": [
       "True"
      ]
     },
     "execution_count": 29,
     "metadata": {},
     "output_type": "execute_result"
    }
   ],
   "source": [
    "math.isclose(\n",
    "    my_fraction2,\n",
    "    my_fraction3,\n",
    "    abs_tol=1e-15,\n",
    "    rel_tol=1e-09,\n",
    ")"
   ]
  },
  {
   "cell_type": "markdown",
   "metadata": {},
   "source": [
    "# Float Rounding\n"
   ]
  },
  {
   "cell_type": "code",
   "execution_count": 35,
   "metadata": {},
   "outputs": [
    {
     "data": {
      "text/plain": [
       "3"
      ]
     },
     "execution_count": 35,
     "metadata": {},
     "output_type": "execute_result"
    }
   ],
   "source": [
    "# Function\t    Meaning\n",
    "# math.floor(x)\tGreatest integer ≤ x\n",
    "# math.ceil(x)\tSmallest integer ≥ x\n",
    "\n",
    "# ✔️ They truncate the float to the nearest integer toward -∞ or +∞, respectively.\n",
    "# Hence, they are not the same as rounding. As they convert the float to an integer, they return an int type.\n",
    "\n",
    "import math\n",
    "\n",
    "math.floor(3.7)   # → 3"
   ]
  },
  {
   "cell_type": "code",
   "execution_count": 30,
   "metadata": {},
   "outputs": [
    {
     "name": "stdout",
     "output_type": "stream",
     "text": [
      "42.42424242420000268793955910950899\n"
     ]
    }
   ],
   "source": [
    "my_float = 42.4242424242\n",
    "float_print(my_float)"
   ]
  },
  {
   "cell_type": "code",
   "execution_count": 31,
   "metadata": {},
   "outputs": [
    {
     "name": "stdout",
     "output_type": "stream",
     "text": [
      "42.00000000000000000000000000000000\n"
     ]
    }
   ],
   "source": [
    "my_float_rounded = round(my_float)\n",
    "float_print(my_float_rounded)"
   ]
  },
  {
   "cell_type": "code",
   "execution_count": 39,
   "metadata": {},
   "outputs": [
    {
     "name": "stdout",
     "output_type": "stream",
     "text": [
      "43.00000000000000000000000000000000\n"
     ]
    }
   ],
   "source": [
    "float_print(round(42.666666666666))"
   ]
  },
  {
   "cell_type": "code",
   "execution_count": 36,
   "metadata": {},
   "outputs": [
    {
     "name": "stdout",
     "output_type": "stream",
     "text": [
      "42.42000000000000170530256582424045\n",
      "42.42\n"
     ]
    }
   ],
   "source": [
    "my_float_rounded2 = round(my_float, 2)\n",
    "float_print(my_float_rounded2)\n",
    "print(my_float_rounded2)"
   ]
  },
  {
   "cell_type": "code",
   "execution_count": 40,
   "metadata": {},
   "outputs": [
    {
     "name": "stdout",
     "output_type": "stream",
     "text": [
      "40.00000000000000000000000000000000\n"
     ]
    }
   ],
   "source": [
    "my_float_rounded3 = round(my_float, -1)\n",
    "float_print(my_float_rounded3)"
   ]
  },
  {
   "cell_type": "code",
   "execution_count": 41,
   "metadata": {},
   "outputs": [
    {
     "name": "stdout",
     "output_type": "stream",
     "text": [
      "440.00000000000000000000000000000000\n"
     ]
    }
   ],
   "source": [
    "my_float_rounded3 = round(444.45, -1)\n",
    "float_print(my_float_rounded3)"
   ]
  },
  {
   "cell_type": "code",
   "execution_count": 42,
   "metadata": {},
   "outputs": [
    {
     "name": "stdout",
     "output_type": "stream",
     "text": [
      "400.00000000000000000000000000000000\n"
     ]
    }
   ],
   "source": [
    "my_float_rounded3 = round(444.45, -2)\n",
    "float_print(my_float_rounded3)"
   ]
  },
  {
   "cell_type": "code",
   "execution_count": 43,
   "metadata": {},
   "outputs": [
    {
     "name": "stdout",
     "output_type": "stream",
     "text": [
      "450.00000000000000000000000000000000\n"
     ]
    }
   ],
   "source": [
    "my_float_rounded3 = round(445.45, -1)\n",
    "float_print(my_float_rounded3)"
   ]
  }
 ],
 "metadata": {
  "kernelspec": {
   "display_name": "nlpfull",
   "language": "python",
   "name": "python3"
  },
  "language_info": {
   "codemirror_mode": {
    "name": "ipython",
    "version": 3
   },
   "file_extension": ".py",
   "mimetype": "text/x-python",
   "name": "python",
   "nbconvert_exporter": "python",
   "pygments_lexer": "ipython3",
   "version": "3.10.14"
  },
  "orig_nbformat": 4
 },
 "nbformat": 4,
 "nbformat_minor": 2
}
